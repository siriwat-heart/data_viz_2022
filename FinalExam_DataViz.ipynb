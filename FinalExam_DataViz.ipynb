{
  "nbformat": 4,
  "nbformat_minor": 0,
  "metadata": {
    "colab": {
      "name": "FinalExam_DataViz.ipynb",
      "provenance": [],
      "authorship_tag": "ABX9TyNgVhw8N5tH8moggv0syu7R",
      "include_colab_link": true
    },
    "kernelspec": {
      "name": "python3",
      "display_name": "Python 3"
    },
    "language_info": {
      "name": "python"
    }
  },
  "cells": [
    {
      "cell_type": "markdown",
      "metadata": {
        "id": "view-in-github",
        "colab_type": "text"
      },
      "source": [
        "<a href=\"https://colab.research.google.com/github/siriwat-heart/data_viz_2022/blob/main/FinalExam_DataViz.ipynb\" target=\"_parent\"><img src=\"https://colab.research.google.com/assets/colab-badge.svg\" alt=\"Open In Colab\"/></a>"
      ]
    },
    {
      "cell_type": "markdown",
      "source": [
        "# Final Exam \n",
        "## กลุ่ม alphabetical\n",
        "\n",
        "1.นางสาวมินตรา ทิพยรัตน์สุนทร  623020041-2\n",
        "\n",
        "2.นายศิริวัฒน์ ภูลำสัตย์ 623020765-0\n",
        "\n",
        "3.นางสาวนริศรา ชัยฤทธิ์ 623021001-9"
      ],
      "metadata": {
        "id": "1Ebsi5N_k_kv"
      }
    },
    {
      "cell_type": "markdown",
      "source": [
        "# 1.Load data"
      ],
      "metadata": {
        "id": "J15e4LR-meH8"
      }
    },
    {
      "cell_type": "code",
      "execution_count": 1,
      "metadata": {
        "id": "4UAFCJiDhdDz"
      },
      "outputs": [],
      "source": [
        "import pandas as pd"
      ]
    },
    {
      "cell_type": "code",
      "source": [
        ""
      ],
      "metadata": {
        "id": "X2zT4F_CmygQ"
      },
      "execution_count": null,
      "outputs": []
    }
  ]
}