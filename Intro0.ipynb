{
  "nbformat": 4,
  "nbformat_minor": 0,
  "metadata": {
    "colab": {
      "name": "Intro0.ipynb",
      "provenance": [],
      "authorship_tag": "ABX9TyMIOALsmUqE1LR1ZGGoqmvs",
      "include_colab_link": true
    },
    "kernelspec": {
      "name": "python3",
      "display_name": "Python 3"
    },
    "language_info": {
      "name": "python"
    }
  },
  "cells": [
    {
      "cell_type": "markdown",
      "metadata": {
        "id": "view-in-github",
        "colab_type": "text"
      },
      "source": [
        "<a href=\"https://colab.research.google.com/github/siriwat-heart/data_viz_2022/blob/main/Intro0.ipynb\" target=\"_parent\"><img src=\"https://colab.research.google.com/assets/colab-badge.svg\" alt=\"Open In Colab\"/></a>"
      ]
    },
    {
      "cell_type": "markdown",
      "source": [
        "# Introduction to Basic Programming for Data Science and Data Visualization"
      ],
      "metadata": {
        "id": "vbXy7y4k-3R9"
      }
    },
    {
      "cell_type": "code",
      "execution_count": 1,
      "metadata": {
        "colab": {
          "base_uri": "https://localhost:8080/"
        },
        "id": "RwRvws3z-yoB",
        "outputId": "dfb0901a-b413-4da6-e1f9-9d9c3158d4c3"
      },
      "outputs": [
        {
          "output_type": "execute_result",
          "data": {
            "text/plain": [
              "3"
            ]
          },
          "metadata": {},
          "execution_count": 1
        }
      ],
      "source": [
        "a = 1\n",
        "b = 2\n",
        "a + b"
      ]
    },
    {
      "cell_type": "markdown",
      "source": [
        "1 + 2"
      ],
      "metadata": {
        "id": "FY6hb215_uw5"
      }
    },
    {
      "cell_type": "code",
      "source": [
        "print('ศิริวัฒน์ ภูลำสัตย์ ID 6230207650')"
      ],
      "metadata": {
        "colab": {
          "base_uri": "https://localhost:8080/"
        },
        "id": "M791jqeR_rcN",
        "outputId": "fd8984ac-db59-4df2-9ecf-a166df73431f"
      },
      "execution_count": 3,
      "outputs": [
        {
          "output_type": "stream",
          "name": "stdout",
          "text": [
            "ศิริวัฒน์ ภูลำสัตย์ ID 6230207650\n"
          ]
        }
      ]
    },
    {
      "cell_type": "code",
      "source": [
        ""
      ],
      "metadata": {
        "id": "C1vQqKqgAAQq"
      },
      "execution_count": null,
      "outputs": []
    }
  ]
}